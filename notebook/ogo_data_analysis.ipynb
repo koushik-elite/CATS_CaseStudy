{
 "cells": [
  {
   "cell_type": "markdown",
   "id": "7b6162d8",
   "metadata": {},
   "source": [
    "# OGO Dataset Analysis\n",
    "This notebook analyzes the OGO (Orbit Ground Object) dataset from the cleaned CSV file."
   ]
  },
  {
   "cell_type": "markdown",
   "id": "18758446",
   "metadata": {},
   "source": [
    "## Import Required Libraries\n",
    "Import the necessary Python libraries for data analysis and visualization."
   ]
  },
  {
   "cell_type": "code",
   "execution_count": null,
   "id": "300dbe7d",
   "metadata": {},
   "outputs": [],
   "source": [
    "import pandas as pd\n",
    "import numpy as np\n",
    "import matplotlib.pyplot as plt\n",
    "import seaborn as sns\n",
    "\n",
    "# Set display options\n",
    "pd.set_option('display.max_columns', None)\n",
    "plt.style.use('seaborn')"
   ]
  },
  {
   "cell_type": "markdown",
   "id": "eaee7418",
   "metadata": {},
   "source": [
    "## Read CSV Data\n",
    "Load the OGO dataset from the CSV file."
   ]
  },
  {
   "cell_type": "code",
   "execution_count": null,
   "id": "fcb61063",
   "metadata": {},
   "outputs": [],
   "source": [
    "# Read the CSV file\n",
    "try:\n",
    "    df = pd.read_csv('../dataset/OGO/OGORBcsv_cleaned.csv')\n",
    "    print(\"Dataset loaded successfully!\")\n",
    "except FileNotFoundError:\n",
    "    print(\"Error: File not found. Please check the file path.\")\n",
    "except Exception as e:\n",
    "    print(f\"Error loading the file: {str(e)}\")"
   ]
  },
  {
   "cell_type": "markdown",
   "id": "3bac5161",
   "metadata": {},
   "source": [
    "## Display Basic Information\n",
    "Show basic information about the dataset including data types and statistical summary."
   ]
  },
  {
   "cell_type": "code",
   "execution_count": null,
   "id": "d25fa5c8",
   "metadata": {},
   "outputs": [],
   "source": [
    "# Display basic information about the dataset\n",
    "print(\"Dataset Info:\")\n",
    "print(\"-\" * 50)\n",
    "df.info()\n",
    "\n",
    "print(\"\\nStatistical Summary:\")\n",
    "print(\"-\" * 50)\n",
    "df.describe()"
   ]
  },
  {
   "cell_type": "markdown",
   "id": "c78a483f",
   "metadata": {},
   "source": [
    "## Data Overview\n",
    "Display the first few rows of the dataset and check for missing values."
   ]
  },
  {
   "cell_type": "code",
   "execution_count": null,
   "id": "f01de92a",
   "metadata": {},
   "outputs": [],
   "source": [
    "# Display the first few rows of the dataset\n",
    "print(\"First 5 rows of the dataset:\")\n",
    "print(\"-\" * 50)\n",
    "display(df.head())\n",
    "\n",
    "# Check for missing values\n",
    "print(\"\\nMissing values in each column:\")\n",
    "print(\"-\" * 50)\n",
    "display(df.isna().sum())"
   ]
  },
  {
   "cell_type": "markdown",
   "id": "b7f2bd7a",
   "metadata": {},
   "source": [
    "## Initial Data Analysis\n",
    "Check the shape of the dataset, column names, and unique values in key columns."
   ]
  },
  {
   "cell_type": "code",
   "execution_count": null,
   "id": "9df48331",
   "metadata": {},
   "outputs": [],
   "source": [
    "# Display dataset shape\n",
    "print(f\"Dataset Shape: {df.shape} (rows × columns)\")\n",
    "\n",
    "# Display column names\n",
    "print(\"\\nColumn Names:\")\n",
    "print(\"-\" * 50)\n",
    "print(df.columns.tolist())\n",
    "\n",
    "# Display memory usage\n",
    "print(\"\\nMemory Usage:\")\n",
    "print(\"-\" * 50)\n",
    "print(df.memory_usage(deep=True))"
   ]
  }
 ],
 "metadata": {
  "language_info": {
   "name": "python"
  }
 },
 "nbformat": 4,
 "nbformat_minor": 5
}
